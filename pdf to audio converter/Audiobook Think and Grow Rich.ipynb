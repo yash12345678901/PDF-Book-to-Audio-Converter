{
 "cells": [
  {
   "cell_type": "code",
   "execution_count": 1,
   "metadata": {},
   "outputs": [],
   "source": [
    "# Description: This program converts a PDF file to an audio book\n",
    "\n",
    "# import the libraries\n",
    "import pyttsx3\n",
    "import pdfplumber\n",
    "import PyPDF2\n",
    "\n"
   ]
  },
  {
   "cell_type": "code",
   "execution_count": 6,
   "metadata": {},
   "outputs": [],
   "source": [
    "# Get the file name and location of the pdf file\n",
    "\n",
    "# create a pdf file object\n",
    "pdfFileobj = open(r'C:\\Users\\Yash Kumar\\Documents\\ThinkAndGrowRich (1).pdf', 'rb')"
   ]
  },
  {
   "cell_type": "code",
   "execution_count": 7,
   "metadata": {},
   "outputs": [
    {
     "name": "stderr",
     "output_type": "stream",
     "text": [
      "PdfReadWarning: Xref table not zero-indexed. ID numbers for objects will be corrected. [pdf.py:1736]\n"
     ]
    }
   ],
   "source": [
    "# create a pdf file reader object\n",
    "pdfReader = PyPDF2.PdfFileReader(pdfFileobj)"
   ]
  },
  {
   "cell_type": "code",
   "execution_count": 8,
   "metadata": {},
   "outputs": [],
   "source": [
    "# get the number of pages\n",
    "pages = pdfReader.numPages"
   ]
  },
  {
   "cell_type": "code",
   "execution_count": null,
   "metadata": {},
   "outputs": [
    {
     "name": "stdout",
     "output_type": "stream",
     "text": [
      "Think and Grow Rich \n",
      " \n",
      " \n",
      " \n",
      " \n",
      " \n",
      " \n",
      " \n",
      "Napoleon Hill   |   1 \n",
      "Think and Grow Rich \n",
      " \n",
      "Think and Grow Rich \n",
      " \n",
      "Napoleon Hill \n",
      " \n",
      "Introduction and Editing by \n",
      " \n",
      "Adrian P. Cooper \n",
      " \n",
      "Author of: \n",
      " \n",
      "Our Ultimate Reality \n",
      "Life, the Universe and the Destiny of Mankind \n",
      " \n",
      "http://www.ourultimatereality.com\n",
      " \n",
      "Published by Mind Power Books \n",
      " \n",
      "http://www.mindpowerbooks.com\n",
      " \n",
      "A division of Mind Power Corporation \n",
      " \n",
      "http://www.mindpowercorporation.com\n",
      " \n",
      "Electronic book version copyright © 2006 Mind Power Corporation. \n",
      "This book may not be copied, converted or transmitted in whole or in part to \n",
      "any medium, without the permission in writing of Mind Power Corporation. \n",
      " \n",
      " \n",
      " \n",
      " \n",
      "Napoleon Hill   |   2 \n",
      "Think and Grow Rich \n",
      " \n",
      "Table of Contents \n",
      "Publisher’s Preface   11 \n",
      "Author’s Preface   13 \n",
      "CHAPTER 1   Introduction   20 \n",
      "CHAPTER 2   Desire: The Starting Point of All Achievement   36 \n",
      "CHAPTER 3   Faith: Visualization of, Belief in Attainment of Desire   57 \n",
      "CHAPTER 4   Auto-suggestion: The Medium for Influencing the \n",
      "Subconscious Mind   78 \n",
      "CHAPTER 5   Specialized Knowledge: Personal Experience or \n",
      "Observations   85 \n",
      "CHAPTER 6   Imagination: The Workshop of the Mind   101 \n",
      "CHAPTER 7  Organized Planning: The Crystallization of Desire  Into \n",
      "Action   117 \n",
      "CHAPTER 8   Decision: The Mastery of Procrastination   162 \n",
      "CHAPTER 9   Persistence: The Sustained Effort Necessary to Induce \n",
      "Faith   175 \n",
      "CHAPTER 10  Power of the Master Mind: The Driving Force   193 \n",
      "CHAPTER 11  Mystery of Sex Transmutation   201 \n",
      "CHAPTER 12  The Subconscious Mind: Connecting Link   224 \n",
      "CHAPTER 13  The Brain: A Broadcasting and Receiving  Station for \n",
      "Thought   232 \n",
      "CHAPTER 14  The Sixth Sense: The Door To Temple of Wisdom   239 \n",
      "CHAPTER 15   How to Outwit the Six Ghosts of Fear   250 \n",
      " \n",
      " \n",
      "Napoleon Hill   |   3 \n"
     ]
    }
   ],
   "source": [
    "# create a pdfPlumber object and loop through the number of pages in PDF\n",
    "with pdfplumber.open(r'C:\\Users\\Yash Kumar\\Documents\\ThinkAndGrowRich (1).pdf') as pdf:\n",
    "    # loop through the number of pages\n",
    "    for i in range(0, pages):\n",
    "        page = pdf.pages[i]\n",
    "        text = page.extract_text()\n",
    "        print(text)\n",
    "        speaker = pyttsx3.init()\n",
    "        speaker.say(text)\n",
    "        speaker.runAndWait()\n",
    "        "
   ]
  },
  {
   "cell_type": "code",
   "execution_count": null,
   "metadata": {},
   "outputs": [],
   "source": []
  }
 ],
 "metadata": {
  "kernelspec": {
   "display_name": "Python 3",
   "language": "python",
   "name": "python3"
  },
  "language_info": {
   "codemirror_mode": {
    "name": "ipython",
    "version": 3
   },
   "file_extension": ".py",
   "mimetype": "text/x-python",
   "name": "python",
   "nbconvert_exporter": "python",
   "pygments_lexer": "ipython3",
   "version": "3.7.9"
  }
 },
 "nbformat": 4,
 "nbformat_minor": 4
}
